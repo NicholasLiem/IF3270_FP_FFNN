{
 "cells": [
  {
   "cell_type": "code",
   "execution_count": 31,
   "metadata": {},
   "outputs": [],
   "source": [
    "# Imports\n",
    "import numpy as np\n",
    "import matplotlib.pyplot as plt\n",
    "from Utils.JsonModelParser import JsonModelParser"
   ]
  },
  {
   "cell_type": "code",
   "execution_count": 32,
   "metadata": {},
   "outputs": [],
   "source": [
    "class FastFeedNeuralNetwork:\n",
    "    def __init__(self, layers, weights):\n",
    "        self.layers = layers\n",
    "        self.weights = [np.array(w) for w in weights]\n",
    "\n",
    "    def prepend_bias(self, activations):\n",
    "        return np.insert(activations, 0, 1, axis=1)\n",
    "\n",
    "    def softmax(self, x):\n",
    "        expX = np.exp(x - np.max(x, axis=1, keepdims=True))\n",
    "        return expX / np.sum(expX, axis=1, keepdims=True)\n",
    "\n",
    "    def relu(self, x):\n",
    "        return np.maximum(0, x)\n",
    "    \n",
    "    def sigmoid(self, x):\n",
    "        return 1 / (1 + np.exp(-x))\n",
    "    \n",
    "    def predict(self, input_data):\n",
    "        input_data_np = np.array(input_data) if not isinstance(input_data, np.ndarray) else input_data\n",
    "        activations = input_data_np\n",
    "\n",
    "        for i in range(len(self.layers)):\n",
    "            activations_with_bias = self.prepend_bias(activations)\n",
    "            net_input = np.dot(activations_with_bias, self.weights[i])\n",
    "\n",
    "            print(\"Activations:\", activations)\n",
    "            print(\"Weights:\", self.weights[i])\n",
    "            print(\"Net Input:\", net_input)\n",
    "\n",
    "            # Update nilai activations dengan menggunakan fungsi aktivasi yang diinginkan\n",
    "            activation_function_str = self.layers[i]['activation_function']\n",
    "            match activation_function_str:\n",
    "                case \"relu\":\n",
    "                    activations = self.relu(net_input)\n",
    "                case \"softmax\":\n",
    "                    activations = self.softmax(net_input)\n",
    "                case \"sigmoid\":\n",
    "                    activations = self.sigmoid(net_input)\n",
    "\n",
    "            print(\"Updated activations:\", activations)\n",
    "\n",
    "        return activations"
   ]
  },
  {
   "cell_type": "code",
   "execution_count": 33,
   "metadata": {},
   "outputs": [
    {
     "name": "stdout",
     "output_type": "stream",
     "text": [
      "Activations: [[-1.   0.5  0.8]]\n",
      "Weights: [[ 0.1  0.2  0.3 -1.2]\n",
      " [-0.5  0.6  0.7  0.5]\n",
      " [ 0.9  1.  -1.1 -1. ]\n",
      " [ 1.3  1.4  1.5  0.1]]\n",
      "Net Input: [[ 2.09  1.22  0.25 -2.12]]\n",
      "Updated activations: [[2.09 1.22 0.25 0.  ]]\n",
      "Activations: [[2.09 1.22 0.25 0.  ]]\n",
      "Weights: [[ 0.1  0.1  0.3]\n",
      " [-0.4  0.5  0.6]\n",
      " [ 0.7  0.4 -0.9]\n",
      " [ 0.2  0.3  0.4]\n",
      " [-0.1  0.2  0.1]]\n",
      "Net Input: [[0.168 1.708 0.556]]\n",
      "Updated activations: [[0.168 1.708 0.556]]\n",
      "Activations: [[0.168 1.708 0.556]]\n",
      "Weights: [[ 0.1  0.2]\n",
      " [-0.3  0.4]\n",
      " [ 0.6  0.1]\n",
      " [ 0.1 -0.4]]\n",
      "Net Input: [[1.13   0.2156]]\n",
      "Updated activations: [[1.13   0.2156]]\n",
      "Activations: [[1.13   0.2156]]\n",
      "Weights: [[ 0.1]\n",
      " [-0.2]\n",
      " [ 0.3]]\n",
      "Net Input: [[-0.06132]]\n",
      "Updated activations: [[0.4846748]]\n",
      "Output: [[0.4846748]]\n",
      "Sum of Squared Errors (SSE): 3.1555532735024718e-18\n"
     ]
    }
   ],
   "source": [
    "def main():\n",
    "    # json_path = \"Tests/\" + input(\"Input json file name (*.json in Tests folder): \")\n",
    "    json_path = 'Tests/multilayer.json'\n",
    "    parser = JsonModelParser(json_path)\n",
    "    if parser.data is None:\n",
    "        print(\"Failed to load or parse the JSON data.\")\n",
    "    \n",
    "    ffnn = FastFeedNeuralNetwork(parser.layers, parser.weights)\n",
    "    output = ffnn.predict(parser.input_data)\n",
    "    print(\"Output:\", output)\n",
    "    sse = np.sum((np.array(parser.output) - output) ** 2)\n",
    "    print(\"Sum of Squared Errors (SSE):\", sse)\n",
    "\n",
    "if __name__ == '__main__':\n",
    "    main()"
   ]
  },
  {
   "cell_type": "code",
   "execution_count": null,
   "metadata": {},
   "outputs": [],
   "source": []
  }
 ],
 "metadata": {
  "kernelspec": {
   "display_name": "Python 3",
   "language": "python",
   "name": "python3"
  },
  "language_info": {
   "codemirror_mode": {
    "name": "ipython",
    "version": 3
   },
   "file_extension": ".py",
   "mimetype": "text/x-python",
   "name": "python",
   "nbconvert_exporter": "python",
   "pygments_lexer": "ipython3",
   "version": "3.10.12"
  }
 },
 "nbformat": 4,
 "nbformat_minor": 2
}
