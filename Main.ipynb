{
 "cells": [
  {
   "cell_type": "code",
   "execution_count": 5,
   "metadata": {},
   "outputs": [],
   "source": [
    "# Imports\n",
    "import numpy as np\n",
    "import matplotlib.pyplot as plt"
   ]
  },
  {
   "cell_type": "code",
   "execution_count": 6,
   "metadata": {},
   "outputs": [],
   "source": [
    "import json\n",
    "\n",
    "class JsonModelParser:\n",
    "    def __init__(self, filepath):\n",
    "        self.filepath = filepath\n",
    "        self.data = self.load_json_file()\n",
    "        self.parse_model_data()\n",
    "\n",
    "    def load_json_file(self):\n",
    "        try:\n",
    "            with open(self.filepath, 'r', encoding='utf-8') as file:\n",
    "                return json.load(file)\n",
    "        except FileNotFoundError:\n",
    "            print(f\"The file {self.filepath} was not found\")\n",
    "            return None\n",
    "        except json.JSONDecodeError:\n",
    "            print(f\"Error decoding JSON from the file {self.filepath}\")\n",
    "            return None\n",
    "\n",
    "    def parse_model_data(self):\n",
    "        if self.data:\n",
    "            self.case = self.data.get('case', {})\n",
    "            self.model = self.case.get('model', {})\n",
    "            self.input_data = self.case.get('input', [])\n",
    "            self.weights = self.case.get('weights', [])\n",
    "            self.expect = self.data.get('expect', {})\n",
    "            raw_layers = self.model.get('layers', [])\n",
    "\n",
    "            self.input_size = self.model.get('input_size')\n",
    "            self.layers = [{'number_of_neurons': layer.get('number_of_neurons'),\n",
    "                        'activation_function': layer.get('activation_function')}\n",
    "                       for layer in raw_layers]\n",
    "\n",
    "            self.output = self.expect.get('output', [])\n",
    "            self.max_sse = self.expect.get('max_sse')\n",
    "\n",
    "    @staticmethod\n",
    "    def save_json_file(data, filepath):\n",
    "        try:\n",
    "            with open(filepath, 'w', encoding='utf-8') as file:\n",
    "                json.dump(data, file, ensure_ascii=False, indent=4)\n",
    "        except IOError:\n",
    "            print(f\"Could not save data to {filepath}\")\n"
   ]
  },
  {
   "cell_type": "code",
   "execution_count": 7,
   "metadata": {},
   "outputs": [],
   "source": [
    "class FastFeedNeuralNetwork:\n",
    "    def __init__(self, layers, weights):\n",
    "        self.layers = layers\n",
    "        self.weights = [np.array(w) for w in weights]\n",
    "\n",
    "    def softmax(self, x):\n",
    "        expX = np.exp(x - np.max(x, axis=1, keepdims=True))\n",
    "        return expX / np.sum(expX, axis=1, keepdims=True)\n",
    "\n",
    "    def relu(self, x):\n",
    "        return np.maximum(0, x)\n",
    "    \n",
    "    def forward_propagation(self, input_data):\n",
    "        # Need to add [1] in front of the input_data\n",
    "        input_data_np = np.array(input_data)\n",
    "        prepended_input_data = np.insert(input_data_np, 0, 1, axis=1)\n",
    "\n",
    "        activations = prepended_input_data\n",
    "        for i in range(len(self.layers)):\n",
    "            activation_function_str = self.layers[i]['activation_function']\n",
    "            net_input = np.dot(activations, self.weights[i])\n",
    "\n",
    "            match activation_function_str:\n",
    "                case \"relu\":\n",
    "                    activations = self.relu(net_input)\n",
    "                case \"softmax\":\n",
    "                    activations = self.softmax(net_input)\n",
    "                case _:\n",
    "                    activations = self.relu(net_input)\n",
    "\n",
    "        return activations"
   ]
  },
  {
   "cell_type": "code",
   "execution_count": 8,
   "metadata": {},
   "outputs": [
    {
     "name": "stdout",
     "output_type": "stream",
     "text": [
      "Output: [[0.05 1.1  0.  ]]\n",
      "Sum of Squared Errors (SSE): 4.8148248609680896e-33\n"
     ]
    }
   ],
   "source": [
    "def main():\n",
    "    # json_path = \"Tests/\" + input(\"Input json file name (*.json in Tests folder): \")\n",
    "    json_path = 'Tests/relu.json'\n",
    "    parser = JsonModelParser(json_path)\n",
    "    if parser.data is None:\n",
    "        print(\"Failed to load or parse the JSON data.\")\n",
    "    \n",
    "    ffnn = FastFeedNeuralNetwork(parser.layers, parser.weights)\n",
    "    output = ffnn.forward_propagation(parser.input_data)\n",
    "    print(\"Output:\", output)\n",
    "    sse = np.sum((np.array(parser.output) - output) ** 2)\n",
    "    print(\"Sum of Squared Errors (SSE):\", sse)\n",
    "\n",
    "if __name__ == '__main__':\n",
    "    main()"
   ]
  },
  {
   "cell_type": "code",
   "execution_count": null,
   "metadata": {},
   "outputs": [],
   "source": []
  }
 ],
 "metadata": {
  "kernelspec": {
   "display_name": "Python 3",
   "language": "python",
   "name": "python3"
  },
  "language_info": {
   "codemirror_mode": {
    "name": "ipython",
    "version": 3
   },
   "file_extension": ".py",
   "mimetype": "text/x-python",
   "name": "python",
   "nbconvert_exporter": "python",
   "pygments_lexer": "ipython3",
   "version": "3.10.12"
  }
 },
 "nbformat": 4,
 "nbformat_minor": 2
}
