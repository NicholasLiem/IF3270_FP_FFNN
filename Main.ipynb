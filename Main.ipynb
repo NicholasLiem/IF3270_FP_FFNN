{
 "cells": [
  {
   "cell_type": "code",
   "execution_count": null,
   "metadata": {},
   "outputs": [],
   "source": [
    "# Imports\n",
    "import numpy as np\n",
    "from Utils.GraphNetworkVisualizer import GraphNetworkVisualizer\n",
    "from Utils.JsonModelParser import JsonModelParser"
   ]
  },
  {
   "cell_type": "code",
   "execution_count": null,
   "metadata": {},
   "outputs": [],
   "source": [
    "class FastFeedNeuralNetwork:\n",
    "    def __init__(self, layers, weights, input_data):\n",
    "        self.input_data = np.array(input_data) if not isinstance(input_data, np.ndarray) else input_data\n",
    "        self.layers = layers\n",
    "        self.weights = [np.array(w) for w in weights]\n",
    "        self.graph_visualizer = GraphNetworkVisualizer(layers, weights, input_data)\n",
    "\n",
    "    def prepend_bias(self, activations):\n",
    "        return np.insert(activations, 0, 1, axis=1)\n",
    "\n",
    "    def softmax(self, x):\n",
    "        expX = np.exp(x - np.max(x, axis=1, keepdims=True))\n",
    "        return expX / np.sum(expX, axis=1, keepdims=True)\n",
    "\n",
    "    def relu(self, x):\n",
    "        return np.maximum(0, x)\n",
    "    \n",
    "    def sigmoid(self, x):\n",
    "        return 1 / (1 + np.exp(-x))\n",
    "    \n",
    "    def predict(self):\n",
    "        activations = self.input_data\n",
    "\n",
    "        for i in range(len(self.layers)):\n",
    "            activations_with_bias = self.prepend_bias(activations)\n",
    "            net_input = np.dot(activations_with_bias, self.weights[i])\n",
    "\n",
    "            # print(\"Activations:\", activations)\n",
    "            # print(\"Weights:\", self.weights[i])\n",
    "            # print(\"Net Input:\", net_input)\n",
    "\n",
    "            # Update nilai activations dengan menggunakan fungsi aktivasi yang diinginkan\n",
    "            activation_function_str = self.layers[i]['activation_function']\n",
    "            match activation_function_str:\n",
    "                case \"relu\":\n",
    "                    activations = self.relu(net_input)\n",
    "                case \"softmax\":\n",
    "                    activations = self.softmax(net_input)\n",
    "                case \"sigmoid\":\n",
    "                    activations = self.sigmoid(net_input)\n",
    "\n",
    "            # print(\"Updated activations:\", activations)\n",
    "\n",
    "        return activations"
   ]
  },
  {
   "cell_type": "code",
   "execution_count": null,
   "metadata": {},
   "outputs": [],
   "source": [
    "def main():\n",
    "    # json_path = \"Tests/\" + input(\"Input json file name (*.json in Tests folder): \")\n",
    "    json_path = 'Tests/multilayer.json'\n",
    "    parser = JsonModelParser(json_path)\n",
    "    if parser.data is None:\n",
    "        print(\"Failed to load or parse the JSON data.\")\n",
    "    \n",
    "    ffnn = FastFeedNeuralNetwork(parser.layers, parser.weights, parser.input_data)\n",
    "    output = ffnn.predict()\n",
    "    print(\"Output:\", output)\n",
    "    sse = np.sum((np.array(parser.output) - output) ** 2)\n",
    "    print(\"Sum of Squared Errors (SSE):\", sse)\n",
    "\n",
    "    # Prints the graph\n",
    "    ffnn.graph_visualizer.visualize()\n",
    "\n",
    "if __name__ == '__main__':\n",
    "    main()"
   ]
  }
 ],
 "metadata": {
  "kernelspec": {
   "display_name": "Python 3",
   "language": "python",
   "name": "python3"
  },
  "language_info": {
   "codemirror_mode": {
    "name": "ipython",
    "version": 3
   },
   "file_extension": ".py",
   "mimetype": "text/x-python",
   "name": "python",
   "nbconvert_exporter": "python",
   "pygments_lexer": "ipython3",
   "version": "3.10.12"
  }
 },
 "nbformat": 4,
 "nbformat_minor": 2
}
