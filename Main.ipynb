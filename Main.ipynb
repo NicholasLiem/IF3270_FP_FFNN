{
 "cells": [
  {
   "cell_type": "code",
   "execution_count": 1,
   "metadata": {},
   "outputs": [
    {
     "name": "stdout",
     "output_type": "stream",
     "text": [
      "Model Information:\n",
      "Input_Size: 2\n",
      "Layers: [{'number_of_neurons': 3, 'activation_function': 'relu'}]\n",
      "Input Data: [[-1.0, 0.5]]\n",
      "Weights: [[[0.1, 0.2, 0.3], [0.4, -0.5, 0.6], [0.7, 0.8, -0.9]]]\n",
      "Expected Output: [[0.05, 1.1, 0.0]]\n",
      "Maximum SSE: 1e-06\n"
     ]
    }
   ],
   "source": [
    "from Utils.JsonModelParser import JsonModelParser\n",
    "\n",
    "def main():\n",
    "    json_path = \"Tests/\" + input(\"Input json file name (*.json in Tests folder): \")\n",
    "    parser = JsonModelParser(json_path)\n",
    "    if parser.data:\n",
    "        print(\"Model Information:\")\n",
    "        print(\"Input_Size:\", parser.input_size)\n",
    "        print(\"Layers:\", parser.layers)\n",
    "\n",
    "        print(\"Input Data:\", parser.input_data)\n",
    "        print(\"Weights:\", parser.weights)\n",
    "        print(\"Expected Output:\", parser.output)\n",
    "        print(\"Maximum SSE:\", parser.max_sse)\n",
    "    else:\n",
    "        print(\"Failed to load or parse the JSON data.\")\n",
    "\n",
    "if __name__ == '__main__':\n",
    "    main()"
   ]
  }
 ],
 "metadata": {
  "kernelspec": {
   "display_name": "Python 3",
   "language": "python",
   "name": "python3"
  },
  "language_info": {
   "codemirror_mode": {
    "name": "ipython",
    "version": 3
   },
   "file_extension": ".py",
   "mimetype": "text/x-python",
   "name": "python",
   "nbconvert_exporter": "python",
   "pygments_lexer": "ipython3",
   "version": "3.10.12"
  }
 },
 "nbformat": 4,
 "nbformat_minor": 2
}
